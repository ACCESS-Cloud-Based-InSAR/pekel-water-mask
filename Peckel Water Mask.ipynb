{
 "cells": [
  {
   "cell_type": "code",
   "execution_count": 22,
   "id": "recorded-sense",
   "metadata": {
    "ExecuteTime": {
     "end_time": "2022-07-11T17:48:45.006150Z",
     "start_time": "2022-07-11T17:48:43.531091Z"
    }
   },
   "outputs": [],
   "source": [
    "import rasterio\n",
    "from rasterio.crs import CRS\n",
    "import geopandas as gpd\n",
    "from shapely.geometry import box\n",
    "import matplotlib.pyplot as plt\n",
    "from tqdm import tqdm\n",
    "from osgeo import gdal\n",
    "from pathlib import Path\n",
    "import numpy as np\n",
    "from dem_stitcher.rio_window import read_raster_from_window\n",
    "from dem_stitcher.rio_tools import reproject_arr_to_match_profile, update_profile_resolution"
   ]
  },
  {
   "cell_type": "markdown",
   "id": "norman-essex",
   "metadata": {},
   "source": [
    "# Generate Tiles"
   ]
  },
  {
   "cell_type": "code",
   "execution_count": 2,
   "id": "assisted-denial",
   "metadata": {
    "ExecuteTime": {
     "end_time": "2022-07-11T17:48:45.029794Z",
     "start_time": "2022-07-11T17:48:45.008547Z"
    }
   },
   "outputs": [],
   "source": [
    "# box inputs are minx, miny, maxx, maxy\n",
    "geometries = [box(-180 + i * 10, \n",
    "                  80 - (j + 1) * 10, \n",
    "                  -180 + (i + 1) * 10,\n",
    "                  80 - (j) * 10) for i in range(36) for j in range(14)]\n",
    "\n",
    "# Upper left corner\n",
    "ul_corners = [(-180 + (i) * 10, 80 - (j) * 10) for i in range(36) for j in range(14)]\n",
    "# data\n",
    "df_peckel_data = gpd.GeoDataFrame(geometry=geometries, crs=CRS.from_epsg(4326))"
   ]
  },
  {
   "cell_type": "markdown",
   "id": "expressed-attendance",
   "metadata": {},
   "source": [
    "Sample url: https://storage.googleapis.com/global-surface-water/downloads2020/occurrence/occurrence_70W_20Sv1_3_2020.tif"
   ]
  },
  {
   "cell_type": "code",
   "execution_count": 3,
   "id": "north-exploration",
   "metadata": {
    "ExecuteTime": {
     "end_time": "2022-07-11T17:51:10.972764Z",
     "start_time": "2022-07-11T17:51:10.817133Z"
    }
   },
   "outputs": [
    {
     "data": {
      "text/plain": [
       "<Axes: >"
      ]
     },
     "execution_count": 3,
     "metadata": {},
     "output_type": "execute_result"
    },
    {
     "data": {
      "image/png": "[encoded data removed]",
      "text/plain": [
       "<Figure size 640x480 with 1 Axes>"
      ]
     },
     "metadata": {},
     "output_type": "display_data"
    }
   ],
   "source": [
    "def url_generator(corner: tuple, \n",
    "                  layer: str ='last'):\n",
    "    \n",
    "    assert(layer in ['first', 'last', 'treecover2000'])\n",
    "    \n",
    "    base_url = 'https://storage.googleapis.com/global-surface-water/downloads2020/occurrence'\n",
    "    lon, lat = corner\n",
    "    if lon < 0:\n",
    "        lon_str = f'{abs(lon):d}W'\n",
    "    else:\n",
    "        lon_str = f'{abs(lon):d}E'\n",
    "    if lat >= 0:\n",
    "        lat_str = f'{abs(lat):d}N'\n",
    "    else:\n",
    "        lat_str = f'{abs(lat):d}S'\n",
    "    return f'{base_url}/occurrence_{lon_str}_{lat_str}v1_3_2020.tif'\n",
    "\n",
    "df_peckel_data['source_url'] = list(map(url_generator, ul_corners))\n",
    "df_peckel_data['year'] = 2020\n",
    "df_peckel_data.boundary.plot()"
   ]
  },
  {
   "cell_type": "code",
   "execution_count": 4,
   "id": "voluntary-affair",
   "metadata": {
    "ExecuteTime": {
     "end_time": "2022-07-11T17:51:11.596326Z",
     "start_time": "2022-07-11T17:51:11.593146Z"
    }
   },
   "outputs": [
    {
     "name": "stdout",
     "output_type": "stream",
     "text": [
      "https://storage.googleapis.com/global-surface-water/downloads2020/occurrence/occurrence_180W_80Nv1_3_2020.tif\n"
     ]
    }
   ],
   "source": [
    "sample_url = df_peckel_data.source_url[0]\n",
    "print(sample_url)"
   ]
  },
  {
   "cell_type": "code",
   "execution_count": 5,
   "id": "powered-scotland",
   "metadata": {
    "ExecuteTime": {
     "end_time": "2022-07-11T17:51:12.128018Z",
     "start_time": "2022-07-11T17:51:12.064726Z"
    }
   },
   "outputs": [],
   "source": [
    "df_peckel_data.to_file('peckel_tiles.geojson', driver='GeoJSON')"
   ]
  },
  {
   "cell_type": "code",
   "execution_count": 6,
   "id": "beautiful-blood",
   "metadata": {
    "ExecuteTime": {
     "end_time": "2022-07-06T00:23:16.418728Z",
     "start_time": "2022-07-06T00:23:15.421031Z"
    }
   },
   "outputs": [
    {
     "data": {
      "text/plain": [
       "{'driver': 'GTiff', 'dtype': 'uint8', 'nodata': None, 'width': 40000, 'height': 40000, 'count': 1, 'crs': CRS.from_epsg(4326), 'transform': Affine(0.00025, 0.0, -180.0,\n",
       "       0.0, -0.00025, 80.0), 'blockxsize': 256, 'blockysize': 256, 'tiled': True, 'compress': 'lzw', 'interleave': 'band'}"
      ]
     },
     "execution_count": 6,
     "metadata": {},
     "output_type": "execute_result"
    }
   ],
   "source": [
    "with rasterio.open(sample_url) as ds:\n",
    "    p = ds.profile\n",
    "p"
   ]
  },
  {
   "cell_type": "markdown",
   "id": "deluxe-toner",
   "metadata": {},
   "source": [
    "# Get Peckel Data"
   ]
  },
  {
   "cell_type": "code",
   "execution_count": 7,
   "id": "functional-storm",
   "metadata": {
    "ExecuteTime": {
     "end_time": "2022-07-06T00:23:56.339866Z",
     "start_time": "2022-07-06T00:23:56.335704Z"
    }
   },
   "outputs": [],
   "source": [
    "def build_peckel_vrt(extent: list, \n",
    "                     out_path: Path):\n",
    "    bbox = box(*extent)\n",
    "    ind_inter = df_peckel_data.geometry.intersects(bbox)\n",
    "    df_subset = df_peckel_data[ind_inter].reset_index(drop=True)\n",
    "    gdal.BuildVRT(str(out_path), df_subset.source_url.tolist())\n",
    "    return out_path\n",
    "\n",
    "def get_peckel_raster(extent:list) -> tuple:\n",
    "    tmp_vrt = Path('peckel_data_tmp.vrt')\n",
    "    build_peckel_vrt(extent, tmp_vrt)\n",
    "    X, p = read_raster_from_window(tmp_vrt,\n",
    "                                   extent,\n",
    "                                   CRS.from_epsg(4326))\n",
    "    tmp_vrt.unlink()\n",
    "    p['driver'] = 'GTiff'\n",
    "    return X, p"
   ]
  },
  {
   "cell_type": "code",
   "execution_count": 8,
   "id": "020e71c5",
   "metadata": {},
   "outputs": [
    {
     "data": {
      "text/plain": [
       "<Axes: >"
      ]
     },
     "execution_count": 8,
     "metadata": {},
     "output_type": "execute_result"
    },
    {
     "data": {
      "image/png": "[encoded data removed]",
      "text/plain": [
       "<Figure size 640x480 with 1 Axes>"
      ]
     },
     "metadata": {},
     "output_type": "display_data"
    }
   ],
   "source": [
    "df_aois = gpd.read_file('track-aois.geojson')\n",
    "df_aois.plot(column='track_number_min',alpha=.5)"
   ]
  },
  {
   "cell_type": "code",
   "execution_count": 9,
   "id": "08e92acc",
   "metadata": {},
   "outputs": [],
   "source": [
    "sample_aoi = df_aois[df_aois.track_number_min == 77].geometry.unary_union\n",
    "bounds_4326 = sample_aoi.bounds"
   ]
  },
  {
   "cell_type": "code",
   "execution_count": 10,
   "id": "light-implement",
   "metadata": {
    "ExecuteTime": {
     "end_time": "2022-07-06T00:24:29.983367Z",
     "start_time": "2022-07-06T00:23:58.510856Z"
    }
   },
   "outputs": [
    {
     "name": "stdout",
     "output_type": "stream",
     "text": [
      "CPU times: user 4.63 s, sys: 8.94 s, total: 13.6 s\n",
      "Wall time: 6min 26s\n"
     ]
    }
   ],
   "source": [
    "%%time\n",
    "\n",
    "X_occ, p_occ = get_peckel_raster(list(bounds_4326))"
   ]
  },
  {
   "cell_type": "code",
   "execution_count": 15,
   "id": "487645c5",
   "metadata": {},
   "outputs": [],
   "source": [
    "res = p_occ['transform'].a"
   ]
  },
  {
   "cell_type": "code",
   "execution_count": 26,
   "id": "a2a0bdb6",
   "metadata": {},
   "outputs": [
    {
     "name": "stdout",
     "output_type": "stream",
     "text": [
      "CPU times: user 3.69 s, sys: 245 ms, total: 3.93 s\n",
      "Wall time: 3.93 s\n"
     ]
    }
   ],
   "source": [
    "%%time\n",
    "\n",
    "p_occ_new = update_profile_resolution(p_occ, res * 3)\n",
    "X_occ_low_res, _ = reproject_arr_to_match_profile(X_occ, p_occ, p_occ_new, resampling='average')\n",
    "X_occ_low_res = X_occ_low_res[0, ...]"
   ]
  },
  {
   "cell_type": "code",
   "execution_count": 31,
   "id": "e4f07cd8",
   "metadata": {},
   "outputs": [],
   "source": [
    "WATER_OCCURENCE_THRESHOLD = 95\n",
    "water_mask = np.zeros(X_occ_low_res.shape, dtype=np.uint8)\n",
    "water_mask[X_occ_low_res > WATER_OCCURENCE_THRESHOLD] = 1"
   ]
  },
  {
   "cell_type": "code",
   "execution_count": 32,
   "id": "copyrighted-cornell",
   "metadata": {
    "ExecuteTime": {
     "end_time": "2022-07-06T00:24:30.116797Z",
     "start_time": "2022-07-06T00:24:30.107419Z"
    }
   },
   "outputs": [
    {
     "name": "stdout",
     "output_type": "stream",
     "text": [
      "CPU times: user 42.9 ms, sys: 30.7 ms, total: 73.6 ms\n",
      "Wall time: 71.8 ms\n"
     ]
    }
   ],
   "source": [
    "%%time\n",
    "\n",
    "with rasterio.open(f'pekel_water_mask.tif', 'w', **p_occ_new) as ds:\n",
    "    ds.write(water_mask, 1)"
   ]
  }
 ],
 "metadata": {
  "kernelspec": {
   "display_name": "dswx_val",
   "language": "python",
   "name": "dswx_val"
  },
  "language_info": {
   "codemirror_mode": {
    "name": "ipython",
    "version": 3
   },
   "file_extension": ".py",
   "mimetype": "text/x-python",
   "name": "python",
   "nbconvert_exporter": "python",
   "pygments_lexer": "ipython3",
   "version": "3.10.11"
  }
 },
 "nbformat": 4,
 "nbformat_minor": 5
}
